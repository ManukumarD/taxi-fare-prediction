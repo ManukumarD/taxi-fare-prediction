{
 "cells": [
  {
   "cell_type": "markdown",
   "metadata": {},
   "source": [
    "# Taxi Fare - Prediction"
   ]
  },
  {
   "cell_type": "code",
   "execution_count": 34,
   "metadata": {
    "slideshow": {
     "slide_type": "-"
    }
   },
   "outputs": [],
   "source": [
    "import pandas as pd\n",
    "import numpy as np\n",
    "from sklearn import metrics  \n",
    "import matplotlib.pyplot as plt\n",
    "%matplotlib inline\n",
    "import warnings\n",
    "warnings.filterwarnings(\"ignore\")"
   ]
  },
  {
   "cell_type": "code",
   "execution_count": 2,
   "metadata": {},
   "outputs": [],
   "source": [
    "taxi_fare=pd.read_csv('D:/train_fare.csv')\n",
    "test_fare=pd.read_csv('D:/test_fare.csv')"
   ]
  },
  {
   "cell_type": "code",
   "execution_count": 3,
   "metadata": {},
   "outputs": [],
   "source": [
    "train=taxi_fare.copy()\n",
    "test=test_fare.copy()"
   ]
  },
  {
   "cell_type": "code",
   "execution_count": 4,
   "metadata": {},
   "outputs": [
    {
     "data": {
      "text/plain": [
       "(Index(['fare_amount', 'pickup_longitude', 'pickup_latitude',\n",
       "        'dropoff_longitude', 'dropoff_latitude', 'passenger_count', 'year',\n",
       "        'month', 'day', 'dayOfWeek', 'hour', 'timeOfDayMid.Day',\n",
       "        'timeOfDayMorning', 'timeOfDayNight'],\n",
       "       dtype='object'),\n",
       " Index(['pickup_longitude', 'pickup_latitude', 'dropoff_longitude',\n",
       "        'dropoff_latitude', 'passenger_count', 'year', 'month', 'day',\n",
       "        'dayOfWeek', 'hour', 'timeOfDayMid.Day', 'timeOfDayMorning',\n",
       "        'timeOfDayNight'],\n",
       "       dtype='object'))"
      ]
     },
     "execution_count": 4,
     "metadata": {},
     "output_type": "execute_result"
    }
   ],
   "source": [
    "train.columns, test.columns"
   ]
  },
  {
   "cell_type": "code",
   "execution_count": 5,
   "metadata": {},
   "outputs": [
    {
     "data": {
      "text/html": [
       "<div>\n",
       "<style scoped>\n",
       "    .dataframe tbody tr th:only-of-type {\n",
       "        vertical-align: middle;\n",
       "    }\n",
       "\n",
       "    .dataframe tbody tr th {\n",
       "        vertical-align: top;\n",
       "    }\n",
       "\n",
       "    .dataframe thead th {\n",
       "        text-align: right;\n",
       "    }\n",
       "</style>\n",
       "<table border=\"1\" class=\"dataframe\">\n",
       "  <thead>\n",
       "    <tr style=\"text-align: right;\">\n",
       "      <th></th>\n",
       "      <th>fare_amount</th>\n",
       "      <th>pickup_longitude</th>\n",
       "      <th>pickup_latitude</th>\n",
       "      <th>dropoff_longitude</th>\n",
       "      <th>dropoff_latitude</th>\n",
       "      <th>passenger_count</th>\n",
       "      <th>year</th>\n",
       "      <th>month</th>\n",
       "      <th>day</th>\n",
       "      <th>dayOfWeek</th>\n",
       "      <th>hour</th>\n",
       "      <th>timeOfDayMid.Day</th>\n",
       "      <th>timeOfDayMorning</th>\n",
       "      <th>timeOfDayNight</th>\n",
       "    </tr>\n",
       "  </thead>\n",
       "  <tbody>\n",
       "    <tr>\n",
       "      <th>count</th>\n",
       "      <td>1.958885e+06</td>\n",
       "      <td>1.958885e+06</td>\n",
       "      <td>1.958885e+06</td>\n",
       "      <td>1.958885e+06</td>\n",
       "      <td>1.958885e+06</td>\n",
       "      <td>1.958885e+06</td>\n",
       "      <td>1.958885e+06</td>\n",
       "      <td>1.958885e+06</td>\n",
       "      <td>1.958885e+06</td>\n",
       "      <td>1.958885e+06</td>\n",
       "      <td>1.958885e+06</td>\n",
       "      <td>1.958885e+06</td>\n",
       "      <td>1.958885e+06</td>\n",
       "      <td>1.958885e+06</td>\n",
       "    </tr>\n",
       "    <tr>\n",
       "      <th>mean</th>\n",
       "      <td>1.061528e+01</td>\n",
       "      <td>-7.397526e+01</td>\n",
       "      <td>4.075089e+01</td>\n",
       "      <td>-7.397436e+01</td>\n",
       "      <td>4.075124e+01</td>\n",
       "      <td>1.684182e+00</td>\n",
       "      <td>3.736753e+00</td>\n",
       "      <td>6.268586e+00</td>\n",
       "      <td>1.570568e+01</td>\n",
       "      <td>4.122257e+00</td>\n",
       "      <td>1.350867e+01</td>\n",
       "      <td>2.363074e-01</td>\n",
       "      <td>1.398658e-01</td>\n",
       "      <td>4.344701e-01</td>\n",
       "    </tr>\n",
       "    <tr>\n",
       "      <th>std</th>\n",
       "      <td>6.787814e+00</td>\n",
       "      <td>4.479549e-02</td>\n",
       "      <td>3.424333e-02</td>\n",
       "      <td>4.329848e-02</td>\n",
       "      <td>3.716876e-02</td>\n",
       "      <td>1.306624e+00</td>\n",
       "      <td>1.863201e+00</td>\n",
       "      <td>3.437946e+00</td>\n",
       "      <td>8.682210e+00</td>\n",
       "      <td>1.988030e+00</td>\n",
       "      <td>6.513901e+00</td>\n",
       "      <td>4.248133e-01</td>\n",
       "      <td>3.468478e-01</td>\n",
       "      <td>4.956874e-01</td>\n",
       "    </tr>\n",
       "    <tr>\n",
       "      <th>min</th>\n",
       "      <td>3.300000e+00</td>\n",
       "      <td>-7.953506e+01</td>\n",
       "      <td>3.579768e+01</td>\n",
       "      <td>-7.948642e+01</td>\n",
       "      <td>3.556155e+01</td>\n",
       "      <td>0.000000e+00</td>\n",
       "      <td>1.000000e+00</td>\n",
       "      <td>1.000000e+00</td>\n",
       "      <td>1.000000e+00</td>\n",
       "      <td>1.000000e+00</td>\n",
       "      <td>0.000000e+00</td>\n",
       "      <td>0.000000e+00</td>\n",
       "      <td>0.000000e+00</td>\n",
       "      <td>0.000000e+00</td>\n",
       "    </tr>\n",
       "    <tr>\n",
       "      <th>25%</th>\n",
       "      <td>6.000000e+00</td>\n",
       "      <td>-7.399229e+01</td>\n",
       "      <td>4.073653e+01</td>\n",
       "      <td>-7.399160e+01</td>\n",
       "      <td>4.073550e+01</td>\n",
       "      <td>1.000000e+00</td>\n",
       "      <td>2.000000e+00</td>\n",
       "      <td>3.000000e+00</td>\n",
       "      <td>8.000000e+00</td>\n",
       "      <td>2.000000e+00</td>\n",
       "      <td>9.000000e+00</td>\n",
       "      <td>0.000000e+00</td>\n",
       "      <td>0.000000e+00</td>\n",
       "      <td>0.000000e+00</td>\n",
       "    </tr>\n",
       "    <tr>\n",
       "      <th>50%</th>\n",
       "      <td>8.500000e+00</td>\n",
       "      <td>-7.398210e+01</td>\n",
       "      <td>4.075333e+01</td>\n",
       "      <td>-7.398062e+01</td>\n",
       "      <td>4.075383e+01</td>\n",
       "      <td>1.000000e+00</td>\n",
       "      <td>4.000000e+00</td>\n",
       "      <td>6.000000e+00</td>\n",
       "      <td>1.600000e+01</td>\n",
       "      <td>4.000000e+00</td>\n",
       "      <td>1.400000e+01</td>\n",
       "      <td>0.000000e+00</td>\n",
       "      <td>0.000000e+00</td>\n",
       "      <td>0.000000e+00</td>\n",
       "    </tr>\n",
       "    <tr>\n",
       "      <th>75%</th>\n",
       "      <td>1.250000e+01</td>\n",
       "      <td>-7.396834e+01</td>\n",
       "      <td>4.076752e+01</td>\n",
       "      <td>-7.396536e+01</td>\n",
       "      <td>4.076839e+01</td>\n",
       "      <td>2.000000e+00</td>\n",
       "      <td>5.000000e+00</td>\n",
       "      <td>9.000000e+00</td>\n",
       "      <td>2.300000e+01</td>\n",
       "      <td>6.000000e+00</td>\n",
       "      <td>1.900000e+01</td>\n",
       "      <td>0.000000e+00</td>\n",
       "      <td>0.000000e+00</td>\n",
       "      <td>1.000000e+00</td>\n",
       "    </tr>\n",
       "    <tr>\n",
       "      <th>max</th>\n",
       "      <td>3.027000e+01</td>\n",
       "      <td>-7.000039e+01</td>\n",
       "      <td>4.426142e+01</td>\n",
       "      <td>-7.000227e+01</td>\n",
       "      <td>4.467143e+01</td>\n",
       "      <td>9.000000e+00</td>\n",
       "      <td>7.000000e+00</td>\n",
       "      <td>1.200000e+01</td>\n",
       "      <td>3.100000e+01</td>\n",
       "      <td>7.000000e+00</td>\n",
       "      <td>2.300000e+01</td>\n",
       "      <td>1.000000e+00</td>\n",
       "      <td>1.000000e+00</td>\n",
       "      <td>1.000000e+00</td>\n",
       "    </tr>\n",
       "  </tbody>\n",
       "</table>\n",
       "</div>"
      ],
      "text/plain": [
       "        fare_amount  pickup_longitude  pickup_latitude  dropoff_longitude  \\\n",
       "count  1.958885e+06      1.958885e+06     1.958885e+06       1.958885e+06   \n",
       "mean   1.061528e+01     -7.397526e+01     4.075089e+01      -7.397436e+01   \n",
       "std    6.787814e+00      4.479549e-02     3.424333e-02       4.329848e-02   \n",
       "min    3.300000e+00     -7.953506e+01     3.579768e+01      -7.948642e+01   \n",
       "25%    6.000000e+00     -7.399229e+01     4.073653e+01      -7.399160e+01   \n",
       "50%    8.500000e+00     -7.398210e+01     4.075333e+01      -7.398062e+01   \n",
       "75%    1.250000e+01     -7.396834e+01     4.076752e+01      -7.396536e+01   \n",
       "max    3.027000e+01     -7.000039e+01     4.426142e+01      -7.000227e+01   \n",
       "\n",
       "       dropoff_latitude  passenger_count          year         month  \\\n",
       "count      1.958885e+06     1.958885e+06  1.958885e+06  1.958885e+06   \n",
       "mean       4.075124e+01     1.684182e+00  3.736753e+00  6.268586e+00   \n",
       "std        3.716876e-02     1.306624e+00  1.863201e+00  3.437946e+00   \n",
       "min        3.556155e+01     0.000000e+00  1.000000e+00  1.000000e+00   \n",
       "25%        4.073550e+01     1.000000e+00  2.000000e+00  3.000000e+00   \n",
       "50%        4.075383e+01     1.000000e+00  4.000000e+00  6.000000e+00   \n",
       "75%        4.076839e+01     2.000000e+00  5.000000e+00  9.000000e+00   \n",
       "max        4.467143e+01     9.000000e+00  7.000000e+00  1.200000e+01   \n",
       "\n",
       "                day     dayOfWeek          hour  timeOfDayMid.Day  \\\n",
       "count  1.958885e+06  1.958885e+06  1.958885e+06      1.958885e+06   \n",
       "mean   1.570568e+01  4.122257e+00  1.350867e+01      2.363074e-01   \n",
       "std    8.682210e+00  1.988030e+00  6.513901e+00      4.248133e-01   \n",
       "min    1.000000e+00  1.000000e+00  0.000000e+00      0.000000e+00   \n",
       "25%    8.000000e+00  2.000000e+00  9.000000e+00      0.000000e+00   \n",
       "50%    1.600000e+01  4.000000e+00  1.400000e+01      0.000000e+00   \n",
       "75%    2.300000e+01  6.000000e+00  1.900000e+01      0.000000e+00   \n",
       "max    3.100000e+01  7.000000e+00  2.300000e+01      1.000000e+00   \n",
       "\n",
       "       timeOfDayMorning  timeOfDayNight  \n",
       "count      1.958885e+06    1.958885e+06  \n",
       "mean       1.398658e-01    4.344701e-01  \n",
       "std        3.468478e-01    4.956874e-01  \n",
       "min        0.000000e+00    0.000000e+00  \n",
       "25%        0.000000e+00    0.000000e+00  \n",
       "50%        0.000000e+00    0.000000e+00  \n",
       "75%        0.000000e+00    1.000000e+00  \n",
       "max        1.000000e+00    1.000000e+00  "
      ]
     },
     "execution_count": 5,
     "metadata": {},
     "output_type": "execute_result"
    }
   ],
   "source": [
    "train.describe()"
   ]
  },
  {
   "cell_type": "code",
   "execution_count": 6,
   "metadata": {},
   "outputs": [
    {
     "data": {
      "text/plain": [
       "fare_amount          float64\n",
       "pickup_longitude     float64\n",
       "pickup_latitude      float64\n",
       "dropoff_longitude    float64\n",
       "dropoff_latitude     float64\n",
       "passenger_count        int64\n",
       "year                   int64\n",
       "month                  int64\n",
       "day                    int64\n",
       "dayOfWeek              int64\n",
       "hour                   int64\n",
       "timeOfDayMid.Day       int64\n",
       "timeOfDayMorning       int64\n",
       "timeOfDayNight         int64\n",
       "dtype: object"
      ]
     },
     "execution_count": 6,
     "metadata": {},
     "output_type": "execute_result"
    }
   ],
   "source": [
    "train.dtypes"
   ]
  },
  {
   "cell_type": "code",
   "execution_count": 7,
   "metadata": {},
   "outputs": [
    {
     "data": {
      "text/plain": [
       "((1958885, 14), (9914, 13))"
      ]
     },
     "execution_count": 7,
     "metadata": {},
     "output_type": "execute_result"
    }
   ],
   "source": [
    "train.shape, test.shape"
   ]
  },
  {
   "cell_type": "code",
   "execution_count": 8,
   "metadata": {},
   "outputs": [],
   "source": [
    "X = train.loc[:, train.columns != 'fare_amount']\n",
    "y = train['fare_amount']"
   ]
  },
  {
   "cell_type": "code",
   "execution_count": 9,
   "metadata": {},
   "outputs": [],
   "source": [
    "from sklearn.model_selection import train_test_split \n",
    "\n",
    "#Split train set into test and train subsets\n",
    "X_train, X_test, y_train, y_test = train_test_split(X,y, test_size=0.20,random_state=0)"
   ]
  },
  {
   "cell_type": "code",
   "execution_count": 10,
   "metadata": {},
   "outputs": [
    {
     "name": "stdout",
     "output_type": "stream",
     "text": [
      "(1567108, 13) (391777, 13) (1567108,) (391777,)\n"
     ]
    }
   ],
   "source": [
    "print(X_train.shape, X_test.shape, y_train.shape, y_test.shape)"
   ]
  },
  {
   "cell_type": "code",
   "execution_count": 11,
   "metadata": {},
   "outputs": [],
   "source": [
    "from sklearn.preprocessing import StandardScaler\n",
    "sc = StandardScaler()\n",
    "X_train = sc.fit_transform(X_train)\n",
    "X_test = sc.transform(X_test)"
   ]
  },
  {
   "cell_type": "code",
   "execution_count": 12,
   "metadata": {},
   "outputs": [],
   "source": [
    "# Defining a Function to display model score\n",
    "\n",
    "def display_scores(scores):\n",
    "    print(\"Scores:\", scores)\n",
    "    print(\"Mean:\", scores.mean())\n",
    "    print(\"Standard deviation:\", scores.std())"
   ]
  },
  {
   "cell_type": "code",
   "execution_count": 13,
   "metadata": {},
   "outputs": [
    {
     "data": {
      "text/plain": [
       "LinearRegression(copy_X=True, fit_intercept=True, n_jobs=None,\n",
       "         normalize=False)"
      ]
     },
     "execution_count": 13,
     "metadata": {},
     "output_type": "execute_result"
    }
   ],
   "source": [
    "# Fitting Simple Linear Regression to the Training set\n",
    "from sklearn.linear_model import LinearRegression\n",
    "regressor = LinearRegression()\n",
    "regressor.fit(X_train, y_train)"
   ]
  },
  {
   "cell_type": "code",
   "execution_count": 14,
   "metadata": {},
   "outputs": [
    {
     "name": "stdout",
     "output_type": "stream",
     "text": [
      "0.1715866594784745\n",
      "0.17138107395898738\n"
     ]
    }
   ],
   "source": [
    "print(regressor.score(X_train,y_train))\n",
    "print(regressor.score(X_test,y_test))"
   ]
  },
  {
   "cell_type": "code",
   "execution_count": 15,
   "metadata": {},
   "outputs": [
    {
     "name": "stdout",
     "output_type": "stream",
     "text": [
      "10.612094495082964\n",
      "[ 1.512547   -0.90850631  1.43312972 -0.92230161  0.09643857  0.88025445\n",
      "  0.27786295  0.01716398  0.00240987 -0.10109864 -0.09108535 -0.07794599\n",
      " -0.09487114]\n"
     ]
    }
   ],
   "source": [
    "print(regressor.intercept_),\n",
    "print(regressor.coef_)"
   ]
  },
  {
   "cell_type": "code",
   "execution_count": 16,
   "metadata": {},
   "outputs": [],
   "source": [
    "# Predicting the Test set results\n",
    "y_pred = regressor.predict(X_test)\n",
    "y_pred1 = regressor.predict(X_train)"
   ]
  },
  {
   "cell_type": "code",
   "execution_count": 17,
   "metadata": {},
   "outputs": [
    {
     "data": {
      "text/html": [
       "<div>\n",
       "<style scoped>\n",
       "    .dataframe tbody tr th:only-of-type {\n",
       "        vertical-align: middle;\n",
       "    }\n",
       "\n",
       "    .dataframe tbody tr th {\n",
       "        vertical-align: top;\n",
       "    }\n",
       "\n",
       "    .dataframe thead th {\n",
       "        text-align: right;\n",
       "    }\n",
       "</style>\n",
       "<table border=\"1\" class=\"dataframe\">\n",
       "  <thead>\n",
       "    <tr style=\"text-align: right;\">\n",
       "      <th></th>\n",
       "      <th>Actual</th>\n",
       "      <th>Predicted</th>\n",
       "    </tr>\n",
       "  </thead>\n",
       "  <tbody>\n",
       "    <tr>\n",
       "      <th>678229</th>\n",
       "      <td>10.00</td>\n",
       "      <td>10.306121</td>\n",
       "    </tr>\n",
       "    <tr>\n",
       "      <th>1611561</th>\n",
       "      <td>24.50</td>\n",
       "      <td>12.737027</td>\n",
       "    </tr>\n",
       "    <tr>\n",
       "      <th>731459</th>\n",
       "      <td>6.50</td>\n",
       "      <td>11.604189</td>\n",
       "    </tr>\n",
       "    <tr>\n",
       "      <th>174668</th>\n",
       "      <td>20.33</td>\n",
       "      <td>12.814102</td>\n",
       "    </tr>\n",
       "    <tr>\n",
       "      <th>1635387</th>\n",
       "      <td>9.70</td>\n",
       "      <td>9.228704</td>\n",
       "    </tr>\n",
       "    <tr>\n",
       "      <th>1737463</th>\n",
       "      <td>10.90</td>\n",
       "      <td>10.317578</td>\n",
       "    </tr>\n",
       "    <tr>\n",
       "      <th>1464178</th>\n",
       "      <td>5.70</td>\n",
       "      <td>8.939896</td>\n",
       "    </tr>\n",
       "    <tr>\n",
       "      <th>760493</th>\n",
       "      <td>7.50</td>\n",
       "      <td>9.360846</td>\n",
       "    </tr>\n",
       "    <tr>\n",
       "      <th>590829</th>\n",
       "      <td>8.90</td>\n",
       "      <td>9.156174</td>\n",
       "    </tr>\n",
       "    <tr>\n",
       "      <th>1230822</th>\n",
       "      <td>13.00</td>\n",
       "      <td>12.972972</td>\n",
       "    </tr>\n",
       "  </tbody>\n",
       "</table>\n",
       "</div>"
      ],
      "text/plain": [
       "         Actual  Predicted\n",
       "678229    10.00  10.306121\n",
       "1611561   24.50  12.737027\n",
       "731459     6.50  11.604189\n",
       "174668    20.33  12.814102\n",
       "1635387    9.70   9.228704\n",
       "1737463   10.90  10.317578\n",
       "1464178    5.70   8.939896\n",
       "760493     7.50   9.360846\n",
       "590829     8.90   9.156174\n",
       "1230822   13.00  12.972972"
      ]
     },
     "execution_count": 17,
     "metadata": {},
     "output_type": "execute_result"
    }
   ],
   "source": [
    "# Checking first few data predictions\n",
    "df = pd.DataFrame({'Actual': y_test, 'Predicted': y_pred})  \n",
    "df.head(10) "
   ]
  },
  {
   "cell_type": "code",
   "execution_count": 18,
   "metadata": {},
   "outputs": [
    {
     "name": "stdout",
     "output_type": "stream",
     "text": [
      "Root Mean Squared Error: 6.175469126683819\n"
     ]
    }
   ],
   "source": [
    "print('Root Mean Squared Error:', np.sqrt(metrics.mean_squared_error(y_train, y_pred1)))  "
   ]
  },
  {
   "cell_type": "code",
   "execution_count": 19,
   "metadata": {},
   "outputs": [
    {
     "name": "stdout",
     "output_type": "stream",
     "text": [
      "Root Mean Squared Error: 6.189254652925207\n"
     ]
    }
   ],
   "source": [
    "print('Root Mean Squared Error:', np.sqrt(metrics.mean_squared_error(y_test, y_pred)))  "
   ]
  },
  {
   "cell_type": "code",
   "execution_count": 20,
   "metadata": {},
   "outputs": [
    {
     "name": "stdout",
     "output_type": "stream",
     "text": [
      "Root Mean Squared Error: 6.189254652925207\n"
     ]
    }
   ],
   "source": [
    "from sklearn import metrics  \n",
    "print('Root Mean Squared Error:', np.sqrt(metrics.mean_squared_error(y_test, y_pred)))  "
   ]
  },
  {
   "cell_type": "code",
   "execution_count": 21,
   "metadata": {},
   "outputs": [],
   "source": [
    "from sklearn.model_selection import cross_val_score"
   ]
  },
  {
   "cell_type": "code",
   "execution_count": 22,
   "metadata": {},
   "outputs": [
    {
     "name": "stdout",
     "output_type": "stream",
     "text": [
      "Scores: [6.19884926 6.18023972 6.16343187 6.19072938 6.16029735]\n",
      "Mean: 6.178709517871544\n",
      "Standard deviation: 0.01499894923869124\n"
     ]
    }
   ],
   "source": [
    "# Checking score for Linear Regression model created earlier using cross-validation\n",
    "scores_lin_reg = cross_val_score(regressor, X, y, \n",
    "                         scoring=\"neg_mean_squared_error\", cv=5)\n",
    "\n",
    "lin_reg_rmse_scores = np.sqrt(-scores_lin_reg)\n",
    "\n",
    "display_scores(lin_reg_rmse_scores)"
   ]
  },
  {
   "cell_type": "code",
   "execution_count": 23,
   "metadata": {},
   "outputs": [
    {
     "name": "stdout",
     "output_type": "stream",
     "text": [
      "Accuracy on training set: 1.000\n",
      "Accuracy on test set: 0.725\n"
     ]
    }
   ],
   "source": [
    "# Fitting Decision Tree Regression to the dataset\n",
    "from sklearn.tree import DecisionTreeRegressor\n",
    "tree = DecisionTreeRegressor(random_state=0)\n",
    "tree.fit(X_train, y_train)\n",
    "print(\"Accuracy on training set: {:.3f}\".format(tree.score(X_train, y_train)))\n",
    "print(\"Accuracy on test set: {:.3f}\".format(tree.score(X_test, y_test)))"
   ]
  },
  {
   "cell_type": "code",
   "execution_count": 24,
   "metadata": {},
   "outputs": [],
   "source": [
    "y_pred_train = tree.predict(X_train)\n",
    "y_pred= tree.predict(X_test)"
   ]
  },
  {
   "cell_type": "code",
   "execution_count": 40,
   "metadata": {},
   "outputs": [
    {
     "data": {
      "text/plain": [
       "array([ 9.45, 23.6 ,  7.15, ..., 17.6 , 11.05,  5.15])"
      ]
     },
     "execution_count": 40,
     "metadata": {},
     "output_type": "execute_result"
    }
   ],
   "source": [
    "y_pred"
   ]
  },
  {
   "cell_type": "code",
   "execution_count": 39,
   "metadata": {},
   "outputs": [
    {
     "data": {
      "text/plain": [
       "678229     10.00\n",
       "1611561    24.50\n",
       "731459      6.50\n",
       "174668     20.33\n",
       "1635387     9.70\n",
       "1737463    10.90\n",
       "1464178     5.70\n",
       "760493      7.50\n",
       "590829      8.90\n",
       "1230822    13.00\n",
       "1234501     4.50\n",
       "1469739    12.90\n",
       "1200567     4.90\n",
       "963361      8.10\n",
       "623608      4.50\n",
       "927389     11.50\n",
       "124540      3.70\n",
       "1466422     8.50\n",
       "774567      4.10\n",
       "1295126     7.50\n",
       "211479     10.90\n",
       "84559      12.50\n",
       "793444      8.00\n",
       "1271794    20.00\n",
       "1765145     7.70\n",
       "1332438    15.00\n",
       "378999      4.00\n",
       "1487627     8.00\n",
       "1251549    16.50\n",
       "371839      8.10\n",
       "           ...  \n",
       "1414270    12.50\n",
       "1086747     6.10\n",
       "511175      5.30\n",
       "840531     14.50\n",
       "596536      6.00\n",
       "460757      8.10\n",
       "1756344     8.50\n",
       "791125      6.10\n",
       "88138       8.50\n",
       "1745838     8.50\n",
       "454806     12.10\n",
       "628129      6.50\n",
       "158959      8.50\n",
       "1819122     6.50\n",
       "702806     30.27\n",
       "1528938     6.00\n",
       "1693871     8.50\n",
       "438798      8.90\n",
       "1594300     8.00\n",
       "110647     19.50\n",
       "1170485     5.30\n",
       "968506      7.00\n",
       "1789158    25.00\n",
       "1837569     5.50\n",
       "483753      5.00\n",
       "237156      9.00\n",
       "111107      4.90\n",
       "204295     13.00\n",
       "385890      9.30\n",
       "1075320     4.50\n",
       "Name: fare_amount, Length: 391777, dtype: float64"
      ]
     },
     "execution_count": 39,
     "metadata": {},
     "output_type": "execute_result"
    }
   ],
   "source": [
    "y_test"
   ]
  },
  {
   "cell_type": "code",
   "execution_count": 25,
   "metadata": {},
   "outputs": [
    {
     "name": "stdout",
     "output_type": "stream",
     "text": [
      "Train set Root Mean Squared Error: 0.014516210353589144\n"
     ]
    }
   ],
   "source": [
    "\n",
    "print('Train set Root Mean Squared Error:', np.sqrt(metrics.mean_squared_error(y_train, y_pred_train)))  "
   ]
  },
  {
   "cell_type": "code",
   "execution_count": 26,
   "metadata": {},
   "outputs": [
    {
     "name": "stdout",
     "output_type": "stream",
     "text": [
      "Test set Root Mean Squared Error: 3.563071792151601\n"
     ]
    }
   ],
   "source": [
    "print('Test set Root Mean Squared Error:', np.sqrt(metrics.mean_squared_error(y_test, y_pred)))  "
   ]
  },
  {
   "cell_type": "code",
   "execution_count": 27,
   "metadata": {},
   "outputs": [
    {
     "name": "stdout",
     "output_type": "stream",
     "text": [
      "Feature importances:\n",
      "[0.28736346 0.15562245 0.29809636 0.18639578 0.00402092 0.02068967\n",
      " 0.00993259 0.01226498 0.00823163 0.01368163 0.00143727 0.00086159\n",
      " 0.00140166]\n"
     ]
    }
   ],
   "source": [
    "print(\"Feature importances:\\n{}\".format(tree.feature_importances_))"
   ]
  },
  {
   "cell_type": "code",
   "execution_count": 28,
   "metadata": {},
   "outputs": [
    {
     "data": {
      "image/png": "[encoded data removed]",
      "text/plain": [
       "<Figure size 576x432 with 1 Axes>"
      ]
     },
     "metadata": {
      "needs_background": "light"
     },
     "output_type": "display_data"
    }
   ],
   "source": [
    "diabetes_features = X.columns\n",
    "\n",
    "def plot_feature_importances_diabetes(model):\n",
    "    plt.figure(figsize=(8,6))\n",
    "    n_features = 13\n",
    "    plt.barh(range(n_features), model.feature_importances_, align='center')\n",
    "    plt.yticks(np.arange(n_features), diabetes_features)\n",
    "    plt.xlabel(\"Feature importance\")\n",
    "    plt.ylabel(\"Feature\")\n",
    "    plt.ylim(-1, n_features)\n",
    "\n",
    "plot_feature_importances_diabetes(tree)\n",
    "plt.savefig('feature_importance')"
   ]
  },
  {
   "cell_type": "code",
   "execution_count": 29,
   "metadata": {},
   "outputs": [],
   "source": [
    "# Fitting Random Forest Regression to the dataset\n",
    "from sklearn.ensemble import RandomForestRegressor\n",
    "regressor = RandomForestRegressor(random_state = 0)\n",
    "regressor.fit(X_train, y_train)\n",
    "\n",
    "# Predicting a new result\n",
    "y_pred = regressor.predict(X_test)"
   ]
  },
  {
   "cell_type": "code",
   "execution_count": 30,
   "metadata": {},
   "outputs": [
    {
     "name": "stdout",
     "output_type": "stream",
     "text": [
      "Test dataset Root Mean Squared Error: 1.095801553124151\n"
     ]
    }
   ],
   "source": [
    "y_pred_train = regressor.predict(X_train)\n",
    "print('Test dataset Root Mean Squared Error:', np.sqrt(metrics.mean_squared_error(y_train, y_pred_train)))  "
   ]
  },
  {
   "cell_type": "code",
   "execution_count": 31,
   "metadata": {},
   "outputs": [
    {
     "name": "stdout",
     "output_type": "stream",
     "text": [
      "Test dataset Root Mean Squared Error: 2.5777040700742013\n"
     ]
    }
   ],
   "source": [
    "print('Test dataset Root Mean Squared Error:', np.sqrt(metrics.mean_squared_error(y_test, y_pred)))  "
   ]
  },
  {
   "cell_type": "code",
   "execution_count": 32,
   "metadata": {},
   "outputs": [
    {
     "name": "stdout",
     "output_type": "stream",
     "text": [
      "Feature importances:\n",
      "[0.28416208 0.16043887 0.29394449 0.19027512 0.00386964 0.02032042\n",
      " 0.00965996 0.01184876 0.00793153 0.01367452 0.00144608 0.00089609\n",
      " 0.00153245]\n"
     ]
    }
   ],
   "source": [
    "print(\"Feature importances:\\n{}\".format(regressor.feature_importances_))"
   ]
  },
  {
   "cell_type": "code",
   "execution_count": 33,
   "metadata": {},
   "outputs": [
    {
     "data": {
      "image/png": "[encoded data removed]",
      "text/plain": [
       "<Figure size 576x432 with 1 Axes>"
      ]
     },
     "metadata": {
      "needs_background": "light"
     },
     "output_type": "display_data"
    }
   ],
   "source": [
    "diabetes_features = X.columns\n",
    "\n",
    "def plot_feature_importances_diabetes(model):\n",
    "    plt.figure(figsize=(8,6))\n",
    "    n_features = 13\n",
    "    plt.barh(range(n_features), model.feature_importances_, align='center')\n",
    "    plt.yticks(np.arange(n_features), diabetes_features)\n",
    "    plt.xlabel(\"Feature importance\")\n",
    "    plt.ylabel(\"Feature\")\n",
    "    plt.ylim(-1, n_features)\n",
    "\n",
    "plot_feature_importances_diabetes(regressor)\n",
    "plt.savefig('feature_importance')"
   ]
  }
 ],
 "metadata": {
  "celltoolbar": "Slideshow",
  "kernelspec": {
   "display_name": "Python 3",
   "language": "python",
   "name": "python3"
  },
  "language_info": {
   "codemirror_mode": {
    "name": "ipython",
    "version": 3
   },
   "file_extension": ".py",
   "mimetype": "text/x-python",
   "name": "python",
   "nbconvert_exporter": "python",
   "pygments_lexer": "ipython3",
   "version": "3.7.3"
  }
 },
 "nbformat": 4,
 "nbformat_minor": 2
}
